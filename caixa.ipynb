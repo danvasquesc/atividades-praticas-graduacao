{
  "nbformat": 4,
  "nbformat_minor": 0,
  "metadata": {
    "colab": {
      "provenance": []
    },
    "kernelspec": {
      "name": "python3",
      "display_name": "Python 3"
    },
    "language_info": {
      "name": "python"
    }
  },
  "cells": [
    {
      "cell_type": "code",
      "execution_count": null,
      "metadata": {
        "id": "oeGV1_0gWvOJ"
      },
      "outputs": [],
      "source": [
        "# Nome: Dan Vasques Carvalho\n",
        "# Curso: Análise e Desenvolvimento de Sistemas\n",
        "# Disciplina: Projeto Integrador Extensionista – ADS 1\n",
        "# Semestre Letivo: 1º Termo – 2025\n",
        "\n",
        "\n",
        "print(\"Mercadinho BigBom\")\n",
        "\n",
        "# início do loop principal da caixa registradora, que permite que o programa reinicie automaticamente a cada compra\n",
        "while True:\n",
        "\n",
        "    lista_de_precos = [] #  lista vazia pois o programa deve receber uma quantidade indefinida de valores referentes aos preços dos produtos\n",
        "    numero_produto = 1\n",
        "\n",
        "    while True:\n",
        "\n",
        "        preco = float(input(f\"Produto {numero_produto}: R$ \"))\n",
        "        lista_de_precos.append(preco)\n",
        "        if preco == 0:\n",
        "            break\n",
        "        numero_produto += 1 # passa para o próximo produto\n",
        "\n",
        "    # Comentário para o professor:\n",
        "    # Mesmo digitando, por exemplo: 5.80, o Python está exibindo 5.8 por padrão.\n",
        "    # mas o valor usado no cálculo está correto e preserva os centavos.\n",
        "    # Portanto, o total está matematicamente certo.\n",
        "\n",
        "    total = sum(lista_de_precos)\n",
        "\n",
        "    print(\"Total: R$ {:.2f}\".format(total))\n",
        "\n",
        "    dinheiro_recebido = float(input(\"Dinheiro: R$ \"))\n",
        "\n",
        "    troco = dinheiro_recebido - total\n",
        "\n",
        "    print(\"Troco: R$ {:.2f}\".format(troco))"
      ]
    }
  ]
}